{
 "cells": [
  {
   "cell_type": "code",
   "execution_count": 1,
   "metadata": {},
   "outputs": [],
   "source": [
    "#Function to find the position of next empty cell in grid\n",
    "def find_empty_cell(grid):\n",
    "    \n",
    "    for i in range(len(grid)):\n",
    "        for j in range(len(grid[0])):\n",
    "            if grid[i][j] == 0:\n",
    "                return (i, j)\n",
    "    \n",
    "    return None        "
   ]
  },
  {
   "cell_type": "code",
   "execution_count": 2,
   "metadata": {},
   "outputs": [],
   "source": [
    "#Function to check validity of grid if current value is assigned \n",
    "def is_safe(grid, pos, value):\n",
    "    \n",
    "    #Checking validity of row\n",
    "    for i in range(len(grid[0])):\n",
    "        if grid[pos[0]][i] == value and pos[1] != i:\n",
    "            return False\n",
    "    \n",
    "    #Checking validity of column\n",
    "    for j in range(len(grid)):\n",
    "        if grid[j][pos[1]] == value and pos[0] != j:\n",
    "            return False\n",
    "        \n",
    "    row_start = (pos[0]//3) * 3\n",
    "    col_start = (pos[1]//3) * 3\n",
    "    \n",
    "    #Checking validity of 3x3 box\n",
    "    for i in range(row_start, row_start + 3):\n",
    "        for j in range(col_start, col_start + 3):\n",
    "            if grid[i][j] == value and pos != (i, j):\n",
    "                return False\n",
    "    \n",
    "    return True"
   ]
  },
  {
   "cell_type": "code",
   "execution_count": 3,
   "metadata": {},
   "outputs": [],
   "source": [
    "#Backtracking algorithm to fill the grid\n",
    "def solve(grid):\n",
    "    \n",
    "    loc = find_empty_cell(grid)\n",
    "    if loc == None:\n",
    "        return True\n",
    "    row, col = loc\n",
    "    \n",
    "    for i in range(1, 10):\n",
    "        \n",
    "        if is_safe(grid, loc, i):\n",
    "            grid[row][col] = i\n",
    "            \n",
    "            #Recursively go on filling and stop when it becomes invalid\n",
    "            if(solve(grid)):\n",
    "                return True\n",
    "            \n",
    "            grid[row][col] = 0\n",
    "        \n",
    "    #Returning false will trigger backtracking\n",
    "    return False"
   ]
  },
  {
   "cell_type": "code",
   "execution_count": null,
   "metadata": {},
   "outputs": [],
   "source": []
  }
 ],
 "metadata": {
  "kernelspec": {
   "display_name": "Python 3",
   "language": "python",
   "name": "python3"
  },
  "language_info": {
   "codemirror_mode": {
    "name": "ipython",
    "version": 3
   },
   "file_extension": ".py",
   "mimetype": "text/x-python",
   "name": "python",
   "nbconvert_exporter": "python",
   "pygments_lexer": "ipython3",
   "version": "3.7.3"
  }
 },
 "nbformat": 4,
 "nbformat_minor": 2
}
