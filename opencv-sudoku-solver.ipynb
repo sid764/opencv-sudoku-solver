{
 "cells": [
  {
   "cell_type": "code",
   "execution_count": 1,
   "metadata": {},
   "outputs": [],
   "source": [
    "import cv2\n",
    "import numpy as np\n",
    "import tensorflow as tf\n",
    "from tensorflow import keras\n",
    "\n",
    "%run sudoku_solver.ipynb"
   ]
  },
  {
   "cell_type": "code",
   "execution_count": 2,
   "metadata": {},
   "outputs": [],
   "source": [
    "#Preprocessing image\n",
    "img = cv2.imread('opencv-assets/sudoku-puzzle.jfif')\n",
    "img = cv2.resize(img, (450, 450))\n",
    "img_gray = cv2.cvtColor(img, cv2.COLOR_BGR2GRAY)\n",
    "img_blur = cv2.GaussianBlur(img_gray, (5,5), 0)\n",
    "img_thres = cv2.adaptiveThreshold(img_blur, 255, 1, 1, 11, 2)\n",
    "\n",
    "cv2.imshow('Preprocessed image', img_thres)\n",
    "cv2.waitKey(0)\n",
    "cv2.destroyAllWindows()"
   ]
  },
  {
   "cell_type": "code",
   "execution_count": 3,
   "metadata": {},
   "outputs": [],
   "source": [
    "#Contours detection\n",
    "img_copy = img.copy()\n",
    "contours, _ = cv2.findContours(img_thres, cv2.RETR_EXTERNAL, cv2.CHAIN_APPROX_SIMPLE)\n",
    "cv2.drawContours(img_copy, contours, -1, (0,0,255), 2)\n",
    "\n",
    "cv2.imshow('Contours', img_copy)\n",
    "cv2.waitKey(0)\n",
    "cv2.destroyAllWindows()"
   ]
  },
  {
   "cell_type": "code",
   "execution_count": 4,
   "metadata": {},
   "outputs": [],
   "source": [
    "#Function to detect the biggest contour within image and return vertices in order\n",
    "def biggest_contour_in_order(contours):\n",
    "    \n",
    "    largest = np.array([])\n",
    "    max_area = 0\n",
    "    \n",
    "    for cnt in contours:\n",
    "        area = cv2.contourArea(cnt)\n",
    "        perimeter = cv2.arcLength(cnt, True)\n",
    "        polygon = cv2.approxPolyDP(cnt, 0.02*perimeter, True)\n",
    "        if area > max_area and len(polygon) == 4:\n",
    "            max_area = area\n",
    "            largest = polygon\n",
    "    \n",
    "    biggest = np.empty((4,1,2), dtype=np.int32)\n",
    "    largest = largest.reshape((4,2))\n",
    "    \n",
    "    row_sum = np.sum(largest, axis=1)\n",
    "    biggest[0] = largest[np.argmin(row_sum)]\n",
    "    biggest[3] = largest[np.argmax(row_sum)]\n",
    "    \n",
    "    row_diff = np.diff(largest, axis=1)\n",
    "    biggest[1] = largest[np.argmin(row_diff)]\n",
    "    biggest[2] = largest[np.argmax(row_diff)]\n",
    "    \n",
    "    return biggest\n",
    "\n",
    "\n",
    "big = biggest_contour_in_order(contours)"
   ]
  },
  {
   "cell_type": "code",
   "execution_count": 5,
   "metadata": {},
   "outputs": [],
   "source": [
    "img_big_contour = img.copy()\n",
    "img_big_contour = cv2.drawContours(img_big_contour, big, -1, (0,255,0), 10)\n",
    "\n",
    "cv2.imshow('Approximated contour', img_big_contour)\n",
    "cv2.waitKey(0)\n",
    "cv2.destroyAllWindows()"
   ]
  },
  {
   "cell_type": "code",
   "execution_count": 6,
   "metadata": {},
   "outputs": [],
   "source": [
    "pts1 = np.float32(big)\n",
    "pts2 = np.float32([[0,0], [450,0], [0,450], [450,450]])\n",
    "matrix = cv2.getPerspectiveTransform(pts1, pts2)\n",
    "img_warp_color = cv2.warpPerspective(img, matrix, (450,450))\n",
    "\n",
    "cv2.imshow('Warped', img_warp_color)\n",
    "cv2.waitKey(0)\n",
    "cv2.destroyAllWindows()"
   ]
  },
  {
   "cell_type": "code",
   "execution_count": 7,
   "metadata": {},
   "outputs": [],
   "source": [
    "#Load model\n",
    "new_model = keras.models.load_model('dr_model.h5')\n",
    "\n",
    "img_warp_gray = cv2.cvtColor(img_warp_color, cv2.COLOR_BGR2GRAY)\n",
    "img_warp_gray = cv2.equalizeHist(img_warp_gray)\n",
    "\n",
    "#Split the image into 81 equal parts\n",
    "nums = []\n",
    "rows = np.vsplit(img_warp_gray, 9)\n",
    "for row in rows:\n",
    "    col = np.hsplit(row, 9)\n",
    "    for cell in col:\n",
    "        nums.append(cell)"
   ]
  },
  {
   "cell_type": "code",
   "execution_count": 8,
   "metadata": {},
   "outputs": [],
   "source": [
    "#Finds the number of pixels closer to black in an image\n",
    "def no_of_pixels(img):\n",
    "    count = 0\n",
    "    rows = img.shape[0]\n",
    "    cols = img.shape[1]\n",
    "    \n",
    "    for i in range(rows):\n",
    "        for j in range(cols):\n",
    "            if(img[i][j] < 100):\n",
    "                count = count + 1\n",
    "                \n",
    "    return count"
   ]
  },
  {
   "cell_type": "code",
   "execution_count": 9,
   "metadata": {},
   "outputs": [],
   "source": [
    "board = []\n",
    "binary_board = []\n",
    "\n",
    "for num in nums:\n",
    "    pic = np.asarray(num)\n",
    "    pic = pic[3:pic.shape[0]-3, 3:pic.shape[1]-3]\n",
    "    \n",
    "    if no_of_pixels(pic) < 300:\n",
    "        board.append(0)\n",
    "        binary_board.append(0)\n",
    "        continue\n",
    "    \n",
    "    pic = pic/255\n",
    "    pic = cv2.resize(pic, (28,28))\n",
    "    pic = pic.reshape(-1,28,28,1)\n",
    "    \n",
    "    result = new_model.predict(pic)\n",
    "    digit = np.argmax(result)\n",
    "    \n",
    "    board.append(digit)\n",
    "    binary_board.append(1)\n",
    "    \n",
    "board = np.array(board)\n",
    "binary_board = np.array(binary_board)\n",
    "board = board.reshape(9,9)\n",
    "binary_board = binary_board.reshape(9,9)"
   ]
  },
  {
   "cell_type": "code",
   "execution_count": 10,
   "metadata": {},
   "outputs": [
    {
     "name": "stdout",
     "output_type": "stream",
     "text": [
      "[[3 0 0 8 0 1 0 0 2]\n",
      " [2 0 1 0 3 0 6 0 4]\n",
      " [0 0 0 2 0 4 0 0 0]\n",
      " [8 0 9 0 0 0 1 0 6]\n",
      " [0 6 0 0 0 0 0 5 0]\n",
      " [7 0 2 0 0 0 4 0 9]\n",
      " [0 0 0 5 0 9 0 0 0]\n",
      " [9 0 4 0 8 0 7 0 5]\n",
      " [6 0 0 1 0 7 0 0 3]]\n"
     ]
    }
   ],
   "source": [
    "grid = np.zeros((9,9))\n",
    "print(board)\n",
    "\n",
    "if solve(board):\n",
    "    grid = board\n",
    "else:\n",
    "    print(\"Prediction error or no solution :(\")"
   ]
  },
  {
   "cell_type": "code",
   "execution_count": 11,
   "metadata": {},
   "outputs": [],
   "source": [
    "def print_on_board(img, row, col, num):\n",
    "    \n",
    "    cell_side = img.shape[0]//9\n",
    "    offset = 10\n",
    "    orig = (col*cell_side+offset, cell_side*row+cell_side-offset)\n",
    "    cv2.putText(img, str(num), orig, cv2.FONT_HERSHEY_SIMPLEX, 1, (0, 255, 0), 2, cv2.LINE_AA)\n",
    "\n",
    "\n",
    "for i in range(9):\n",
    "    for j in range(9):\n",
    "        if binary_board[i][j] == 0:\n",
    "            print_on_board(img_warp_color, i, j, grid[i][j])\n",
    "            "
   ]
  },
  {
   "cell_type": "code",
   "execution_count": 12,
   "metadata": {},
   "outputs": [],
   "source": [
    "from PIL import Image\n",
    "\n",
    "img_new = img.copy()\n",
    "img_new = cv2.cvtColor(img_new, cv2.COLOR_BGR2RGB)\n",
    "pil_img_new = Image.fromarray(img_new)\n",
    "\n",
    "big = np.asarray(big)\n",
    "big = big.reshape(4,2)\n",
    "width = big[1][0]-big[0][0]\n",
    "height = big[2][1]-big[0][1]\n",
    "img_warp_color = cv2.resize(img_warp_color, (width, height))\n",
    "img_warp_color = cv2.cvtColor(img_warp_color, cv2.COLOR_BGR2RGB)\n",
    "pil_img_warp_color = Image.fromarray(img_warp_color)\n",
    "\n",
    "pil_img_new.paste(pil_img_warp_color, (big[0][0], big[0][1]))"
   ]
  },
  {
   "cell_type": "code",
   "execution_count": 13,
   "metadata": {},
   "outputs": [],
   "source": [
    "img_new = cv2.cvtColor(np.asarray(pil_img_new), cv2.COLOR_RGB2BGR)\n",
    "cv2.imshow('Final image', img_new)\n",
    "cv2.waitKey(0)\n",
    "cv2.destroyAllWindows()"
   ]
  },
  {
   "cell_type": "code",
   "execution_count": null,
   "metadata": {},
   "outputs": [],
   "source": []
  }
 ],
 "metadata": {
  "kernelspec": {
   "display_name": "Python 3",
   "language": "python",
   "name": "python3"
  },
  "language_info": {
   "codemirror_mode": {
    "name": "ipython",
    "version": 3
   },
   "file_extension": ".py",
   "mimetype": "text/x-python",
   "name": "python",
   "nbconvert_exporter": "python",
   "pygments_lexer": "ipython3",
   "version": "3.7.3"
  }
 },
 "nbformat": 4,
 "nbformat_minor": 2
}
