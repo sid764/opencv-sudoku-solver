{
 "cells": [
  {
   "cell_type": "code",
   "execution_count": 1,
   "metadata": {},
   "outputs": [],
   "source": [
    "import os\n",
    "import cv2\n",
    "import numpy as np\n",
    "\n",
    "path = 'digits-dataset'\n",
    "x = []\n",
    "y = []\n",
    "\n",
    "for dig in range(10):\n",
    "    img_list = os.listdir(path + \"/\" + str(dig))\n",
    "    for i in img_list:\n",
    "        img = cv2.imread(path + \"/\" + str(dig) + \"/\" + i, 0)\n",
    "        img = cv2.resize(img, (28,28))\n",
    "        img = cv2.equalizeHist(img)\n",
    "        img = img / 255.0\n",
    "        x.append(img)\n",
    "        y.append(dig)\n",
    "        \n",
    "x = np.array(x)\n",
    "y = np.array(y)\n",
    "x = x.reshape(x.shape[0], 28, 28, 1)"
   ]
  },
  {
   "cell_type": "code",
   "execution_count": 29,
   "metadata": {},
   "outputs": [
    {
     "name": "stdout",
     "output_type": "stream",
     "text": [
      "(6502, 28, 28, 1)\n",
      "(1626, 28, 28, 1)\n",
      "(2032, 28, 28, 1)\n"
     ]
    }
   ],
   "source": [
    "from sklearn.model_selection import train_test_split\n",
    "\n",
    "x_train, x_test, y_train, y_test = train_test_split(x, y, test_size=0.2)\n",
    "x_train, x_val, y_train, y_val = train_test_split(x_train, y_train, test_size=0.2)\n",
    "\n",
    "\n",
    "print(x_train.shape)\n",
    "print(x_val.shape)\n",
    "print(x_test.shape)\n",
    "\n",
    "#print(\"Number of samples from each digit:\")\n",
    "#for dig in range(10):\n",
    "    #print(len(np.where(y_train==dig)[0]))"
   ]
  },
  {
   "cell_type": "code",
   "execution_count": 30,
   "metadata": {},
   "outputs": [
    {
     "name": "stdout",
     "output_type": "stream",
     "text": [
      "Model: \"sequential_3\"\n",
      "_________________________________________________________________\n",
      "Layer (type)                 Output Shape              Param #   \n",
      "=================================================================\n",
      "conv2d_12 (Conv2D)           (None, 24, 24, 60)        1560      \n",
      "_________________________________________________________________\n",
      "conv2d_13 (Conv2D)           (None, 20, 20, 60)        90060     \n",
      "_________________________________________________________________\n",
      "max_pooling2d_6 (MaxPooling2 (None, 10, 10, 60)        0         \n",
      "_________________________________________________________________\n",
      "conv2d_14 (Conv2D)           (None, 8, 8, 30)          16230     \n",
      "_________________________________________________________________\n",
      "conv2d_15 (Conv2D)           (None, 6, 6, 30)          8130      \n",
      "_________________________________________________________________\n",
      "max_pooling2d_7 (MaxPooling2 (None, 3, 3, 30)          0         \n",
      "_________________________________________________________________\n",
      "dropout_6 (Dropout)          (None, 3, 3, 30)          0         \n",
      "_________________________________________________________________\n",
      "flatten_3 (Flatten)          (None, 270)               0         \n",
      "_________________________________________________________________\n",
      "dense_6 (Dense)              (None, 500)               135500    \n",
      "_________________________________________________________________\n",
      "dropout_7 (Dropout)          (None, 500)               0         \n",
      "_________________________________________________________________\n",
      "dense_7 (Dense)              (None, 10)                5010      \n",
      "=================================================================\n",
      "Total params: 256,490\n",
      "Trainable params: 256,490\n",
      "Non-trainable params: 0\n",
      "_________________________________________________________________\n"
     ]
    }
   ],
   "source": [
    "import tensorflow as tf\n",
    "from keras import Sequential\n",
    "from keras import layers\n",
    "from keras.preprocessing.image import ImageDataGenerator\n",
    "from keras.utils.np_utils import to_categorical\n",
    "\n",
    "img_data_gen = ImageDataGenerator(width_shift_range=0.1,\n",
    "                                  height_shift_range=0.1,\n",
    "                                  zoom_range=0.2,\n",
    "                                  shear_range=0.1,\n",
    "                                  rotation_range=10)\n",
    "img_data_gen.fit(x_train)\n",
    "\n",
    "y_train = to_categorical(y_train, 10)\n",
    "y_val = to_categorical(y_val, 10)\n",
    "y_test = to_categorical(y_test, 10)\n",
    "\n",
    "def dr_model():\n",
    "    model = Sequential([\n",
    "    \n",
    "        layers.Conv2D(60, (5,5), input_shape=(28,28,1), activation='relu'),\n",
    "        layers.Conv2D(60, (5,5), activation='relu'),\n",
    "        layers.MaxPooling2D(pool_size=(2,2)),\n",
    "    \n",
    "        layers.Conv2D(30, (3,3), activation='relu'),\n",
    "        layers.Conv2D(30, (3,3), activation='relu'),\n",
    "        layers.MaxPooling2D(pool_size=(2,2)),\n",
    "        layers.Dropout(0.5),\n",
    "    \n",
    "        layers.Flatten(),\n",
    "        layers.Dense(500, activation='relu'),\n",
    "        layers.Dropout(0.5),\n",
    "        layers.Dense(10, activation='softmax')\n",
    "    ])\n",
    "    return model\n",
    "\n",
    "model = dr_model()\n",
    "model.compile(optimizer='adam', loss='categorical_crossentropy', metrics=['accuracy'])\n",
    "model.summary()"
   ]
  },
  {
   "cell_type": "code",
   "execution_count": 31,
   "metadata": {},
   "outputs": [
    {
     "name": "stdout",
     "output_type": "stream",
     "text": [
      "Epoch 1/20\n",
      "131/131 [==============================] - 16s 120ms/step - loss: 1.6101 - accuracy: 0.4119 - val_loss: 0.2409 - val_accuracy: 0.9237\n",
      "Epoch 2/20\n",
      "131/131 [==============================] - 16s 123ms/step - loss: 0.5900 - accuracy: 0.8071 - val_loss: 0.1041 - val_accuracy: 0.9699\n",
      "Epoch 3/20\n",
      "131/131 [==============================] - 17s 130ms/step - loss: 0.3519 - accuracy: 0.8842 - val_loss: 0.0728 - val_accuracy: 0.9766\n",
      "Epoch 4/20\n",
      "131/131 [==============================] - 17s 129ms/step - loss: 0.2823 - accuracy: 0.9097 - val_loss: 0.0564 - val_accuracy: 0.9828\n",
      "Epoch 5/20\n",
      "131/131 [==============================] - 17s 129ms/step - loss: 0.2277 - accuracy: 0.9245 - val_loss: 0.0475 - val_accuracy: 0.9840\n",
      "Epoch 6/20\n",
      "131/131 [==============================] - 17s 129ms/step - loss: 0.1884 - accuracy: 0.9397 - val_loss: 0.0442 - val_accuracy: 0.9840\n",
      "Epoch 7/20\n",
      "131/131 [==============================] - 17s 130ms/step - loss: 0.1700 - accuracy: 0.9436 - val_loss: 0.0442 - val_accuracy: 0.9865\n",
      "Epoch 8/20\n",
      "131/131 [==============================] - 17s 132ms/step - loss: 0.1686 - accuracy: 0.9483 - val_loss: 0.0368 - val_accuracy: 0.9883\n",
      "Epoch 9/20\n",
      "131/131 [==============================] - 18s 140ms/step - loss: 0.1575 - accuracy: 0.9503 - val_loss: 0.0279 - val_accuracy: 0.9908\n",
      "Epoch 10/20\n",
      "131/131 [==============================] - 20s 154ms/step - loss: 0.1469 - accuracy: 0.9531 - val_loss: 0.0259 - val_accuracy: 0.9895\n",
      "Epoch 11/20\n",
      "131/131 [==============================] - 18s 138ms/step - loss: 0.1234 - accuracy: 0.9612 - val_loss: 0.0226 - val_accuracy: 0.9914\n",
      "Epoch 12/20\n",
      "131/131 [==============================] - 19s 148ms/step - loss: 0.1196 - accuracy: 0.9640 - val_loss: 0.0249 - val_accuracy: 0.9908\n",
      "Epoch 13/20\n",
      "131/131 [==============================] - 18s 141ms/step - loss: 0.1113 - accuracy: 0.9642 - val_loss: 0.0244 - val_accuracy: 0.9914\n",
      "Epoch 14/20\n",
      "131/131 [==============================] - 19s 142ms/step - loss: 0.1074 - accuracy: 0.9672 - val_loss: 0.0260 - val_accuracy: 0.9902\n",
      "Epoch 15/20\n",
      "131/131 [==============================] - 18s 136ms/step - loss: 0.1081 - accuracy: 0.9657 - val_loss: 0.0286 - val_accuracy: 0.9908\n",
      "Epoch 16/20\n",
      "131/131 [==============================] - 19s 141ms/step - loss: 0.1026 - accuracy: 0.9677 - val_loss: 0.0202 - val_accuracy: 0.9920\n",
      "Epoch 17/20\n",
      "131/131 [==============================] - 18s 140ms/step - loss: 0.0947 - accuracy: 0.9711 - val_loss: 0.0280 - val_accuracy: 0.9889\n",
      "Epoch 18/20\n",
      "131/131 [==============================] - 18s 138ms/step - loss: 0.0743 - accuracy: 0.9759 - val_loss: 0.0217 - val_accuracy: 0.9920\n",
      "Epoch 19/20\n",
      "131/131 [==============================] - 18s 135ms/step - loss: 0.0938 - accuracy: 0.9702 - val_loss: 0.0281 - val_accuracy: 0.9895\n",
      "Epoch 20/20\n",
      "131/131 [==============================] - 18s 136ms/step - loss: 0.0839 - accuracy: 0.9719 - val_loss: 0.0171 - val_accuracy: 0.9945\n"
     ]
    }
   ],
   "source": [
    "class CustomCallback(tf.keras.callbacks.Callback):\n",
    "    def on_epoch_end(self, epoch, logs=None):\n",
    "        if logs.get('accuracy') > 0.999:\n",
    "            print(\"Quitting training because accuracy exceeded 99.9%\")\n",
    "            self.model.stop_training = True\n",
    "        \n",
    "history = model.fit(img_data_gen.flow(x_train, y_train, batch_size=50),\n",
    "                    epochs=20,\n",
    "                    validation_data=(x_val, y_val),\n",
    "                    shuffle=1,\n",
    "                    callbacks=[CustomCallback()])"
   ]
  },
  {
   "cell_type": "code",
   "execution_count": 32,
   "metadata": {},
   "outputs": [
    {
     "name": "stdout",
     "output_type": "stream",
     "text": [
      "Test loss: 0.020588591694831848\n",
      "Test accuracy: 0.9926180839538574\n"
     ]
    }
   ],
   "source": [
    "test_predict = model.evaluate(x_test, y_test, verbose=0)\n",
    "print(\"Test loss:\", test_predict[0])\n",
    "print(\"Test accuracy:\", test_predict[1])"
   ]
  },
  {
   "cell_type": "code",
   "execution_count": 33,
   "metadata": {},
   "outputs": [
    {
     "data": {
      "image/png": "[encoded data removed]",
      "text/plain": [
       "<Figure size 432x288 with 1 Axes>"
      ]
     },
     "metadata": {
      "needs_background": "light"
     },
     "output_type": "display_data"
    },
    {
     "data": {
      "image/png": "[encoded data removed]",
      "text/plain": [
       "<Figure size 432x288 with 1 Axes>"
      ]
     },
     "metadata": {
      "needs_background": "light"
     },
     "output_type": "display_data"
    }
   ],
   "source": [
    "import matplotlib.pyplot as plt\n",
    "\n",
    "plt.figure(1)\n",
    "plt.plot(history.history['loss'])\n",
    "plt.plot(history.history['accuracy'])\n",
    "plt.legend(['Training loss', 'Training accuracy'])\n",
    "plt.xlabel('epochs')\n",
    "\n",
    "plt.figure(2)\n",
    "plt.plot(history.history['val_loss'])\n",
    "plt.plot(history.history['val_accuracy'])\n",
    "plt.legend(['Validation loss', 'Validation accuracy'])\n",
    "plt.xlabel('epochs')\n",
    "\n",
    "plt.show()"
   ]
  },
  {
   "cell_type": "code",
   "execution_count": 35,
   "metadata": {},
   "outputs": [],
   "source": [
    "model.save('dr_model.h5')"
   ]
  },
  {
   "cell_type": "code",
   "execution_count": null,
   "metadata": {},
   "outputs": [],
   "source": []
  }
 ],
 "metadata": {
  "kernelspec": {
   "display_name": "Python 3",
   "language": "python",
   "name": "python3"
  },
  "language_info": {
   "codemirror_mode": {
    "name": "ipython",
    "version": 3
   },
   "file_extension": ".py",
   "mimetype": "text/x-python",
   "name": "python",
   "nbconvert_exporter": "python",
   "pygments_lexer": "ipython3",
   "version": "3.7.3"
  }
 },
 "nbformat": 4,
 "nbformat_minor": 2
}
